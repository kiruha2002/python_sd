{
 "cells": [
  {
   "cell_type": "markdown",
   "metadata": {
    "colab_type": "text",
    "id": "view-in-github"
   },
   "source": [
    "<a href=\"https://colab.research.google.com/github/glebmikha/ds-course/blob/main/01_python_check_up.ipynb\" target=\"_parent\"><img src=\"https://colab.research.google.com/assets/colab-badge.svg\" alt=\"Open In Colab\"/></a>"
   ]
  },
  {
   "cell_type": "markdown",
   "metadata": {
    "id": "4mOh1_iFQse7"
   },
   "source": [
    "Мой Telegram-канал: https://t.me/mikhaylovgleb"
   ]
  },
  {
   "cell_type": "markdown",
   "metadata": {
    "id": "3WMSKXS3ZjJa"
   },
   "source": [
    "# Переменные"
   ]
  },
  {
   "cell_type": "code",
   "execution_count": 206,
   "metadata": {
    "colab": {
     "base_uri": "https://localhost:8080/"
    },
    "id": "YQQoZEuSQ7Tc",
    "outputId": "224ce7f2-e7f5-47b5-f936-cd7477fb1749"
   },
   "outputs": [
    {
     "data": {
      "text/plain": [
       "2"
      ]
     },
     "execution_count": 206,
     "metadata": {},
     "output_type": "execute_result"
    }
   ],
   "source": [
    "1 + 1"
   ]
  },
  {
   "cell_type": "code",
   "execution_count": 207,
   "metadata": {
    "colab": {
     "base_uri": "https://localhost:8080/"
    },
    "id": "R-MIwBcAQ_er",
    "outputId": "5bf60187-58a6-45d6-e85b-a21c46713a6b"
   },
   "outputs": [
    {
     "data": {
      "text/plain": [
       "4"
      ]
     },
     "execution_count": 207,
     "metadata": {},
     "output_type": "execute_result"
    }
   ],
   "source": [
    "(1 + 1) * 2"
   ]
  },
  {
   "cell_type": "code",
   "execution_count": 208,
   "metadata": {
    "id": "0YCzR0xYRAy0"
   },
   "outputs": [],
   "source": [
    "num = 4"
   ]
  },
  {
   "cell_type": "code",
   "execution_count": 209,
   "metadata": {
    "colab": {
     "base_uri": "https://localhost:8080/"
    },
    "id": "UNqvJ0VGRP2q",
    "outputId": "e5cd4a3e-5656-4753-d4ed-21e50aed1e56"
   },
   "outputs": [
    {
     "data": {
      "text/plain": [
       "16"
      ]
     },
     "execution_count": 209,
     "metadata": {},
     "output_type": "execute_result"
    }
   ],
   "source": [
    "num * num"
   ]
  },
  {
   "cell_type": "code",
   "execution_count": 210,
   "metadata": {
    "id": "kbG6LA0MRbij"
   },
   "outputs": [],
   "source": [
    "word = 'abc'"
   ]
  },
  {
   "cell_type": "code",
   "execution_count": 211,
   "metadata": {
    "colab": {
     "base_uri": "https://localhost:8080/",
     "height": 35
    },
    "id": "oNLT13hQRt88",
    "outputId": "a7474773-527d-44b6-9bfb-2cca1984ffba"
   },
   "outputs": [
    {
     "data": {
      "text/plain": [
       "'abc'"
      ]
     },
     "execution_count": 211,
     "metadata": {},
     "output_type": "execute_result"
    }
   ],
   "source": [
    "word"
   ]
  },
  {
   "cell_type": "code",
   "execution_count": 212,
   "metadata": {
    "id": "Kp3hmG8RRu8Q"
   },
   "outputs": [],
   "source": [
    "word = \"ab'c\""
   ]
  },
  {
   "cell_type": "code",
   "execution_count": 213,
   "metadata": {
    "colab": {
     "base_uri": "https://localhost:8080/",
     "height": 35
    },
    "id": "u0PYV3KCR0DQ",
    "outputId": "af611304-622e-4d77-ca7a-fc3089b99f31"
   },
   "outputs": [
    {
     "data": {
      "text/plain": [
       "\"ab'c\""
      ]
     },
     "execution_count": 213,
     "metadata": {},
     "output_type": "execute_result"
    }
   ],
   "source": [
    "word"
   ]
  },
  {
   "cell_type": "code",
   "execution_count": 214,
   "metadata": {
    "id": "1u0jUym0R2o-"
   },
   "outputs": [],
   "source": [
    "word = 'ab\\'c'"
   ]
  },
  {
   "cell_type": "code",
   "execution_count": 215,
   "metadata": {
    "colab": {
     "base_uri": "https://localhost:8080/",
     "height": 35
    },
    "id": "RQhR22lcR5B2",
    "outputId": "51df90a6-e12d-4b63-c7b7-acad168cbd67"
   },
   "outputs": [
    {
     "data": {
      "text/plain": [
       "\"ab'c\""
      ]
     },
     "execution_count": 215,
     "metadata": {},
     "output_type": "execute_result"
    }
   ],
   "source": [
    "word"
   ]
  },
  {
   "cell_type": "code",
   "execution_count": 216,
   "metadata": {
    "id": "52_fRhTKR7hM"
   },
   "outputs": [],
   "source": [
    "sentence = '''abc\n",
    "cba\n",
    "'''"
   ]
  },
  {
   "cell_type": "code",
   "execution_count": 217,
   "metadata": {
    "colab": {
     "base_uri": "https://localhost:8080/"
    },
    "id": "dDqnFS_aSIWq",
    "outputId": "bff484a9-e37f-4723-fbc1-8b32c0eb9430"
   },
   "outputs": [
    {
     "name": "stdout",
     "output_type": "stream",
     "text": [
      "abc\n",
      "cba\n",
      "\n"
     ]
    }
   ],
   "source": [
    "print(sentence)"
   ]
  },
  {
   "cell_type": "code",
   "execution_count": 218,
   "metadata": {
    "colab": {
     "base_uri": "https://localhost:8080/",
     "height": 35
    },
    "id": "b4wEiORdSJEt",
    "outputId": "8c78ad2e-3f71-4ba8-81f9-b2d58e783e1a"
   },
   "outputs": [
    {
     "data": {
      "text/plain": [
       "'4'"
      ]
     },
     "execution_count": 218,
     "metadata": {},
     "output_type": "execute_result"
    }
   ],
   "source": [
    "str(num)"
   ]
  },
  {
   "cell_type": "code",
   "execution_count": 219,
   "metadata": {
    "colab": {
     "base_uri": "https://localhost:8080/",
     "height": 35
    },
    "id": "xbuKTsjOSTvQ",
    "outputId": "ab7132da-1fef-420c-800d-cd751b09dbdd"
   },
   "outputs": [
    {
     "data": {
      "text/plain": [
       "'Мой ответ: 4'"
      ]
     },
     "execution_count": 219,
     "metadata": {},
     "output_type": "execute_result"
    }
   ],
   "source": [
    "'Мой ответ: ' + str(num)"
   ]
  },
  {
   "cell_type": "code",
   "execution_count": 220,
   "metadata": {
    "id": "ShB7yCoUSkz0"
   },
   "outputs": [],
   "source": [
    "num = 5"
   ]
  },
  {
   "cell_type": "code",
   "execution_count": 221,
   "metadata": {
    "colab": {
     "base_uri": "https://localhost:8080/",
     "height": 35
    },
    "id": "VtzOIzliSZVa",
    "outputId": "fbd5fa75-2c43-4c49-d401-a4c4feeb1145"
   },
   "outputs": [
    {
     "data": {
      "text/plain": [
       "'Мой ответ: 5'"
      ]
     },
     "execution_count": 221,
     "metadata": {},
     "output_type": "execute_result"
    }
   ],
   "source": [
    "f'Мой ответ: {num}'"
   ]
  },
  {
   "cell_type": "code",
   "execution_count": 222,
   "metadata": {
    "colab": {
     "base_uri": "https://localhost:8080/",
     "height": 35
    },
    "id": "dZ40Me6-SjDu",
    "outputId": "a75a7ce4-5222-4136-fb04-855e7ab7dfaa"
   },
   "outputs": [
    {
     "data": {
      "text/plain": [
       "'b'"
      ]
     },
     "execution_count": 222,
     "metadata": {},
     "output_type": "execute_result"
    }
   ],
   "source": [
    "word[1]"
   ]
  },
  {
   "cell_type": "code",
   "execution_count": 223,
   "metadata": {
    "colab": {
     "base_uri": "https://localhost:8080/",
     "height": 35
    },
    "id": "-uQGVUc-Swrm",
    "outputId": "6c9245b4-2bce-439d-9975-4aaeeecd5fdd"
   },
   "outputs": [
    {
     "data": {
      "text/plain": [
       "\"ab'c\""
      ]
     },
     "execution_count": 223,
     "metadata": {},
     "output_type": "execute_result"
    }
   ],
   "source": [
    "word"
   ]
  },
  {
   "cell_type": "code",
   "execution_count": 224,
   "metadata": {
    "id": "F3d6LUzrWnW0"
   },
   "outputs": [],
   "source": [
    "my_first_word = 'a'"
   ]
  },
  {
   "cell_type": "markdown",
   "metadata": {
    "id": "Y5fekXGkZgUH"
   },
   "source": [
    "# Списки"
   ]
  },
  {
   "cell_type": "code",
   "execution_count": 225,
   "metadata": {
    "id": "XcASPo_FYCF_"
   },
   "outputs": [],
   "source": [
    "nums = [1,2,3]"
   ]
  },
  {
   "cell_type": "code",
   "execution_count": 226,
   "metadata": {
    "colab": {
     "base_uri": "https://localhost:8080/"
    },
    "id": "ZjLYF0TTZtTb",
    "outputId": "be89b12a-545c-4ec3-a8d7-4d7dbcc1d942"
   },
   "outputs": [
    {
     "data": {
      "text/plain": [
       "[1, 2, 3]"
      ]
     },
     "execution_count": 226,
     "metadata": {},
     "output_type": "execute_result"
    }
   ],
   "source": [
    "nums"
   ]
  },
  {
   "cell_type": "code",
   "execution_count": 227,
   "metadata": {
    "colab": {
     "base_uri": "https://localhost:8080/"
    },
    "id": "AdEMJfUFZuTE",
    "outputId": "66f58f4f-c925-43c5-928d-f5e028550c70"
   },
   "outputs": [
    {
     "data": {
      "text/plain": [
       "1"
      ]
     },
     "execution_count": 227,
     "metadata": {},
     "output_type": "execute_result"
    }
   ],
   "source": [
    "nums[0]"
   ]
  },
  {
   "cell_type": "code",
   "execution_count": 228,
   "metadata": {
    "colab": {
     "base_uri": "https://localhost:8080/"
    },
    "id": "gP8jppARZwrW",
    "outputId": "0c5224c0-ea4f-4e38-b595-45178a95b991"
   },
   "outputs": [
    {
     "data": {
      "text/plain": [
       "2"
      ]
     },
     "execution_count": 228,
     "metadata": {},
     "output_type": "execute_result"
    }
   ],
   "source": [
    "nums[1]"
   ]
  },
  {
   "cell_type": "code",
   "execution_count": 229,
   "metadata": {
    "colab": {
     "base_uri": "https://localhost:8080/"
    },
    "id": "Mr4SE7OKZxwa",
    "outputId": "a9f3aa0d-0016-4255-a5b1-6477c032743b"
   },
   "outputs": [
    {
     "data": {
      "text/plain": [
       "[1, 2, 3]"
      ]
     },
     "execution_count": 229,
     "metadata": {},
     "output_type": "execute_result"
    }
   ],
   "source": [
    "nums"
   ]
  },
  {
   "cell_type": "code",
   "execution_count": 230,
   "metadata": {
    "colab": {
     "base_uri": "https://localhost:8080/"
    },
    "id": "z-Ka-r15Z6iQ",
    "outputId": "91050905-57b1-41c1-8539-2481049d573c"
   },
   "outputs": [
    {
     "data": {
      "text/plain": [
       "2"
      ]
     },
     "execution_count": 230,
     "metadata": {},
     "output_type": "execute_result"
    }
   ],
   "source": [
    "nums[0] * 2"
   ]
  },
  {
   "cell_type": "code",
   "execution_count": 231,
   "metadata": {
    "colab": {
     "base_uri": "https://localhost:8080/"
    },
    "id": "8X1WxLzVZ-Eb",
    "outputId": "a2d87b42-7a89-4806-bcea-d3a27819ceb0"
   },
   "outputs": [
    {
     "data": {
      "text/plain": [
       "4"
      ]
     },
     "execution_count": 231,
     "metadata": {},
     "output_type": "execute_result"
    }
   ],
   "source": [
    "nums[1] * 2"
   ]
  },
  {
   "cell_type": "code",
   "execution_count": 232,
   "metadata": {
    "colab": {
     "base_uri": "https://localhost:8080/"
    },
    "id": "OjGqT2C8Z_JW",
    "outputId": "dbc035fb-9eb2-4c4c-c72a-86175a35dfd0"
   },
   "outputs": [
    {
     "data": {
      "text/plain": [
       "6"
      ]
     },
     "execution_count": 232,
     "metadata": {},
     "output_type": "execute_result"
    }
   ],
   "source": [
    "nums[2] * 2"
   ]
  },
  {
   "cell_type": "code",
   "execution_count": 233,
   "metadata": {
    "colab": {
     "base_uri": "https://localhost:8080/"
    },
    "id": "vFb3QA9raAU6",
    "outputId": "c414905b-85d8-4d00-9d25-f7f1b95bf875"
   },
   "outputs": [
    {
     "name": "stdout",
     "output_type": "stream",
     "text": [
      "2\n",
      "4\n",
      "6\n"
     ]
    }
   ],
   "source": [
    "for i in range(len(nums)):\n",
    "  print(nums[i] * 2)"
   ]
  },
  {
   "cell_type": "code",
   "execution_count": 234,
   "metadata": {
    "colab": {
     "base_uri": "https://localhost:8080/"
    },
    "id": "jjmCjgSsaX-2",
    "outputId": "d244df6e-efb5-4269-8326-dd7d2cab9f25"
   },
   "outputs": [
    {
     "data": {
      "text/plain": [
       "3"
      ]
     },
     "execution_count": 234,
     "metadata": {},
     "output_type": "execute_result"
    }
   ],
   "source": [
    "len(nums)"
   ]
  },
  {
   "cell_type": "code",
   "execution_count": 235,
   "metadata": {
    "colab": {
     "base_uri": "https://localhost:8080/"
    },
    "id": "y5Uc9uR1aQtF",
    "outputId": "23b7406b-b29c-4d2c-d4bc-8b6fb53dc3c0"
   },
   "outputs": [
    {
     "data": {
      "text/plain": [
       "[10, 9, 8, 7, 6, 5, 4, 3, 2, 1, 0]"
      ]
     },
     "execution_count": 235,
     "metadata": {},
     "output_type": "execute_result"
    }
   ],
   "source": [
    "list(range(10,-1,-1))"
   ]
  },
  {
   "cell_type": "code",
   "execution_count": 236,
   "metadata": {
    "colab": {
     "base_uri": "https://localhost:8080/"
    },
    "id": "KEGPP2CoaXHr",
    "outputId": "7960a803-886c-42cd-d2fd-7d4828fb4bed"
   },
   "outputs": [
    {
     "name": "stdout",
     "output_type": "stream",
     "text": [
      "1\n",
      "2\n",
      "3\n"
     ]
    }
   ],
   "source": [
    "for i in range(len(nums)):\n",
    "  print(nums[i])"
   ]
  },
  {
   "cell_type": "code",
   "execution_count": 237,
   "metadata": {
    "colab": {
     "base_uri": "https://localhost:8080/"
    },
    "id": "8i9-R1waazYw",
    "outputId": "c385d8b8-9255-4472-a1f0-be9d03c5f5ce"
   },
   "outputs": [
    {
     "name": "stdout",
     "output_type": "stream",
     "text": [
      "2\n",
      "4\n",
      "6\n"
     ]
    }
   ],
   "source": [
    "for num in nums:\n",
    "  print(num * 2)"
   ]
  },
  {
   "cell_type": "code",
   "execution_count": 238,
   "metadata": {
    "colab": {
     "base_uri": "https://localhost:8080/"
    },
    "id": "-_glG81Wa8Th",
    "outputId": "3a25523e-04f3-4489-cbae-dfe2a096584a"
   },
   "outputs": [
    {
     "name": "stdout",
     "output_type": "stream",
     "text": [
      "0 1\n",
      "1 2\n",
      "2 3\n"
     ]
    }
   ],
   "source": [
    "for i in range(len(nums)):\n",
    "  print(i,nums[i])"
   ]
  },
  {
   "cell_type": "code",
   "execution_count": 239,
   "metadata": {
    "colab": {
     "base_uri": "https://localhost:8080/"
    },
    "id": "9mzZJBaObOE2",
    "outputId": "9b63ccef-1295-48a3-8f10-0f6967f0d718"
   },
   "outputs": [
    {
     "name": "stdout",
     "output_type": "stream",
     "text": [
      "0 1\n",
      "1 2\n",
      "2 3\n"
     ]
    }
   ],
   "source": [
    "for i, num in enumerate(nums):\n",
    "  print(i,num)"
   ]
  },
  {
   "cell_type": "code",
   "execution_count": 240,
   "metadata": {
    "colab": {
     "base_uri": "https://localhost:8080/"
    },
    "id": "r5edXThPbYbd",
    "outputId": "28709f36-7959-42d8-e8c6-0e8bd176c635"
   },
   "outputs": [
    {
     "data": {
      "text/plain": [
       "[1, 'a', 2]"
      ]
     },
     "execution_count": 240,
     "metadata": {},
     "output_type": "execute_result"
    }
   ],
   "source": [
    "[1,'a',2]"
   ]
  },
  {
   "cell_type": "code",
   "execution_count": 241,
   "metadata": {
    "colab": {
     "base_uri": "https://localhost:8080/"
    },
    "id": "AvcgAY7abiCd",
    "outputId": "b3a927f4-7d39-4726-b906-5b57e82439cd"
   },
   "outputs": [
    {
     "data": {
      "text/plain": [
       "(1, 2, 3)"
      ]
     },
     "execution_count": 241,
     "metadata": {},
     "output_type": "execute_result"
    }
   ],
   "source": [
    "(1,2,3)"
   ]
  },
  {
   "cell_type": "code",
   "execution_count": 242,
   "metadata": {
    "colab": {
     "base_uri": "https://localhost:8080/"
    },
    "id": "U2jdZOO4bqef",
    "outputId": "65b807b7-e518-4c3d-8adf-12c1cefa90eb"
   },
   "outputs": [
    {
     "data": {
      "text/plain": [
       "[1, 2, 3]"
      ]
     },
     "execution_count": 242,
     "metadata": {},
     "output_type": "execute_result"
    }
   ],
   "source": [
    "nums"
   ]
  },
  {
   "cell_type": "code",
   "execution_count": 243,
   "metadata": {
    "id": "6aCgcgB6bzcb"
   },
   "outputs": [],
   "source": [
    "nums.append(4)"
   ]
  },
  {
   "cell_type": "code",
   "execution_count": 244,
   "metadata": {
    "colab": {
     "base_uri": "https://localhost:8080/"
    },
    "id": "WjAhg9OBb2j-",
    "outputId": "26f79b5e-b624-499e-ea4a-f65b2212d1f4"
   },
   "outputs": [
    {
     "data": {
      "text/plain": [
       "[1, 2, 3, 4]"
      ]
     },
     "execution_count": 244,
     "metadata": {},
     "output_type": "execute_result"
    }
   ],
   "source": [
    "nums"
   ]
  },
  {
   "cell_type": "code",
   "execution_count": 245,
   "metadata": {
    "id": "Wtoef_rFb3Gc"
   },
   "outputs": [],
   "source": [
    "nums_tuple = (1,2,3)"
   ]
  },
  {
   "cell_type": "code",
   "execution_count": 246,
   "metadata": {
    "colab": {
     "base_uri": "https://localhost:8080/"
    },
    "id": "WIwbcpm4b8hT",
    "outputId": "291a300c-2d8a-4784-ddc8-48fa49899e2a"
   },
   "outputs": [
    {
     "data": {
      "text/plain": [
       "4"
      ]
     },
     "execution_count": 246,
     "metadata": {},
     "output_type": "execute_result"
    }
   ],
   "source": [
    "nums.pop()"
   ]
  },
  {
   "cell_type": "code",
   "execution_count": 247,
   "metadata": {
    "colab": {
     "base_uri": "https://localhost:8080/"
    },
    "id": "C5VVw8tvb_l5",
    "outputId": "6fca6f2c-4079-4bf4-8720-124225ebf9a4"
   },
   "outputs": [
    {
     "data": {
      "text/plain": [
       "[1, 2, 3]"
      ]
     },
     "execution_count": 247,
     "metadata": {},
     "output_type": "execute_result"
    }
   ],
   "source": [
    "nums"
   ]
  },
  {
   "cell_type": "code",
   "execution_count": 248,
   "metadata": {
    "colab": {
     "base_uri": "https://localhost:8080/"
    },
    "id": "bPeyOOGvcDiG",
    "outputId": "5c744657-0ca3-4886-a39d-6e8d29907db0"
   },
   "outputs": [
    {
     "data": {
      "text/plain": [
       "3"
      ]
     },
     "execution_count": 248,
     "metadata": {},
     "output_type": "execute_result"
    }
   ],
   "source": [
    "nums.pop()"
   ]
  },
  {
   "cell_type": "code",
   "execution_count": 249,
   "metadata": {
    "colab": {
     "base_uri": "https://localhost:8080/"
    },
    "id": "gscEUR_fcFPt",
    "outputId": "a279acc9-a74a-4835-8c74-d782a07d3f71"
   },
   "outputs": [
    {
     "data": {
      "text/plain": [
       "[1, 2]"
      ]
     },
     "execution_count": 249,
     "metadata": {},
     "output_type": "execute_result"
    }
   ],
   "source": [
    "nums"
   ]
  },
  {
   "cell_type": "markdown",
   "metadata": {
    "id": "bL3jGok7LAd9"
   },
   "source": [
    "# Слайсинг"
   ]
  },
  {
   "cell_type": "code",
   "execution_count": 250,
   "metadata": {
    "id": "pNHtHBDTcI4e"
   },
   "outputs": [],
   "source": [
    "nums = [1,2,3,4,5]"
   ]
  },
  {
   "cell_type": "code",
   "execution_count": 251,
   "metadata": {
    "colab": {
     "base_uri": "https://localhost:8080/"
    },
    "id": "iWmfdVzKLGBA",
    "outputId": "1280f484-3c26-4255-92cc-f1bf0be9519a"
   },
   "outputs": [
    {
     "data": {
      "text/plain": [
       "[1, 2, 3, 4, 5]"
      ]
     },
     "execution_count": 251,
     "metadata": {},
     "output_type": "execute_result"
    }
   ],
   "source": [
    "nums"
   ]
  },
  {
   "cell_type": "code",
   "execution_count": 252,
   "metadata": {
    "colab": {
     "base_uri": "https://localhost:8080/"
    },
    "id": "_tHWDI_dLGhD",
    "outputId": "c88e2107-38de-4c03-a902-157945fa3d56"
   },
   "outputs": [
    {
     "data": {
      "text/plain": [
       "1"
      ]
     },
     "execution_count": 252,
     "metadata": {},
     "output_type": "execute_result"
    }
   ],
   "source": [
    "nums[0]"
   ]
  },
  {
   "cell_type": "code",
   "execution_count": 253,
   "metadata": {
    "colab": {
     "base_uri": "https://localhost:8080/"
    },
    "id": "4MRHBfGZLIIU",
    "outputId": "5e437eb4-103b-442e-d13f-29253f158176"
   },
   "outputs": [
    {
     "data": {
      "text/plain": [
       "[1, 2]"
      ]
     },
     "execution_count": 253,
     "metadata": {},
     "output_type": "execute_result"
    }
   ],
   "source": [
    "nums[:2]"
   ]
  },
  {
   "cell_type": "code",
   "execution_count": 254,
   "metadata": {
    "colab": {
     "base_uri": "https://localhost:8080/"
    },
    "id": "xmEV-2jnLLCB",
    "outputId": "5703e7c5-304d-40a7-dd45-75a670f8c3c9"
   },
   "outputs": [
    {
     "data": {
      "text/plain": [
       "4"
      ]
     },
     "execution_count": 254,
     "metadata": {},
     "output_type": "execute_result"
    }
   ],
   "source": [
    "nums[-2]"
   ]
  },
  {
   "cell_type": "code",
   "execution_count": 255,
   "metadata": {
    "colab": {
     "base_uri": "https://localhost:8080/"
    },
    "id": "Wsjts8CpLTJ0",
    "outputId": "c9603430-f043-4ab7-f4fc-50e06e20a8e8"
   },
   "outputs": [
    {
     "data": {
      "text/plain": [
       "[2, 3, 4, 5]"
      ]
     },
     "execution_count": 255,
     "metadata": {},
     "output_type": "execute_result"
    }
   ],
   "source": [
    "nums[1:]"
   ]
  },
  {
   "cell_type": "code",
   "execution_count": 256,
   "metadata": {
    "colab": {
     "base_uri": "https://localhost:8080/"
    },
    "id": "lBEOTAnNLaPi",
    "outputId": "ce9f1449-b844-4a41-93bb-9230b7c47ec5"
   },
   "outputs": [
    {
     "data": {
      "text/plain": [
       "[1, 2, 3, 4]"
      ]
     },
     "execution_count": 256,
     "metadata": {},
     "output_type": "execute_result"
    }
   ],
   "source": [
    "nums[:-1]"
   ]
  },
  {
   "cell_type": "code",
   "execution_count": 257,
   "metadata": {
    "colab": {
     "base_uri": "https://localhost:8080/"
    },
    "id": "JVblCTwtLcNn",
    "outputId": "f8524c1c-1f66-4557-df89-9b16048826ad"
   },
   "outputs": [
    {
     "data": {
      "text/plain": [
       "[1, 3, 5]"
      ]
     },
     "execution_count": 257,
     "metadata": {},
     "output_type": "execute_result"
    }
   ],
   "source": [
    "nums[::2]"
   ]
  },
  {
   "cell_type": "code",
   "execution_count": 258,
   "metadata": {
    "colab": {
     "base_uri": "https://localhost:8080/"
    },
    "id": "w3L878sQLh9l",
    "outputId": "b41db093-3173-4a7e-e2ce-0301291d21ef"
   },
   "outputs": [
    {
     "data": {
      "text/plain": [
       "[1, 2, 3, 4, 5]"
      ]
     },
     "execution_count": 258,
     "metadata": {},
     "output_type": "execute_result"
    }
   ],
   "source": [
    "nums"
   ]
  },
  {
   "cell_type": "code",
   "execution_count": 259,
   "metadata": {
    "colab": {
     "base_uri": "https://localhost:8080/"
    },
    "id": "qQ8CDERgLlcC",
    "outputId": "e1a07de6-8dfa-48aa-fc53-1b5499aef0ae"
   },
   "outputs": [
    {
     "data": {
      "text/plain": [
       "[5, 4, 3, 2, 1]"
      ]
     },
     "execution_count": 259,
     "metadata": {},
     "output_type": "execute_result"
    }
   ],
   "source": [
    "nums[::-1]"
   ]
  },
  {
   "cell_type": "code",
   "execution_count": 260,
   "metadata": {
    "id": "jpSWqoKtLnyM"
   },
   "outputs": [],
   "source": [
    "word = 'abcd'"
   ]
  },
  {
   "cell_type": "code",
   "execution_count": 261,
   "metadata": {
    "colab": {
     "base_uri": "https://localhost:8080/",
     "height": 35
    },
    "id": "ECDhscZRLtRe",
    "outputId": "1011cd15-80c5-4dde-faae-f9a6d3e23a70"
   },
   "outputs": [
    {
     "data": {
      "text/plain": [
       "'abc'"
      ]
     },
     "execution_count": 261,
     "metadata": {},
     "output_type": "execute_result"
    }
   ],
   "source": [
    "word[:-1]"
   ]
  },
  {
   "cell_type": "code",
   "execution_count": 262,
   "metadata": {
    "colab": {
     "base_uri": "https://localhost:8080/",
     "height": 35
    },
    "id": "TI8lcKDnLuw7",
    "outputId": "328a423c-e607-4181-b623-e45c919eb345"
   },
   "outputs": [
    {
     "data": {
      "text/plain": [
       "'dcba'"
      ]
     },
     "execution_count": 262,
     "metadata": {},
     "output_type": "execute_result"
    }
   ],
   "source": [
    "word[::-1]"
   ]
  },
  {
   "cell_type": "markdown",
   "metadata": {
    "id": "t4Z1oxfOPJcG"
   },
   "source": [
    "# If then"
   ]
  },
  {
   "cell_type": "code",
   "execution_count": 263,
   "metadata": {
    "colab": {
     "base_uri": "https://localhost:8080/"
    },
    "id": "f9hW5Xs5O_Qx",
    "outputId": "dba06976-e6d5-4ae4-96c9-5e8e0de188be"
   },
   "outputs": [
    {
     "name": "stdout",
     "output_type": "stream",
     "text": [
      "Условие выполнилось\n"
     ]
    }
   ],
   "source": [
    "if 2 > 1:\n",
    "  print('Условие выполнилось')"
   ]
  },
  {
   "cell_type": "code",
   "execution_count": 264,
   "metadata": {
    "colab": {
     "base_uri": "https://localhost:8080/"
    },
    "id": "rvxhXh8yPQgu",
    "outputId": "f5f7d9f2-c447-41e5-8211-d0559197134c"
   },
   "outputs": [
    {
     "name": "stdout",
     "output_type": "stream",
     "text": [
      "Условие не выполнилось\n"
     ]
    }
   ],
   "source": [
    "if 1 > 2:\n",
    "  print('Условие выполнилось')\n",
    "else:\n",
    "  print('Условие не выполнилось')"
   ]
  },
  {
   "cell_type": "code",
   "execution_count": 265,
   "metadata": {
    "id": "qpBBKXqcPTt7"
   },
   "outputs": [],
   "source": [
    "num = 9"
   ]
  },
  {
   "cell_type": "code",
   "execution_count": 266,
   "metadata": {
    "colab": {
     "base_uri": "https://localhost:8080/"
    },
    "id": "u-THFTKFPevF",
    "outputId": "5ed8c335-8eb5-4c76-98f1-b8b08828f8bd"
   },
   "outputs": [
    {
     "name": "stdout",
     "output_type": "stream",
     "text": [
      "Число больше 5\n"
     ]
    }
   ],
   "source": [
    "if num > 10:\n",
    "  print('Число больше 10')\n",
    "elif num > 5:\n",
    "  print('Число больше 5')\n",
    "else:\n",
    "  print('Число меньше 5')"
   ]
  },
  {
   "cell_type": "markdown",
   "metadata": {
    "id": "LMXqNJzKQw4q"
   },
   "source": [
    "# List comprehensions"
   ]
  },
  {
   "cell_type": "code",
   "execution_count": 267,
   "metadata": {
    "id": "cfc8DuauRTeS"
   },
   "outputs": [],
   "source": [
    "nums = [1,2,3,4,5]"
   ]
  },
  {
   "cell_type": "code",
   "execution_count": 268,
   "metadata": {
    "colab": {
     "base_uri": "https://localhost:8080/"
    },
    "id": "ssKRs_kGSJgt",
    "outputId": "10d54ddd-90fc-4841-fafe-25511b1b0aec"
   },
   "outputs": [
    {
     "data": {
      "text/plain": [
       "[1, 2, 3, 4, 5]"
      ]
     },
     "execution_count": 268,
     "metadata": {},
     "output_type": "execute_result"
    }
   ],
   "source": [
    "nums"
   ]
  },
  {
   "cell_type": "code",
   "execution_count": 269,
   "metadata": {
    "id": "GSmZqwHBSKKU"
   },
   "outputs": [],
   "source": [
    "new = []\n",
    "for num in nums:\n",
    "  new.append(num * 2)"
   ]
  },
  {
   "cell_type": "code",
   "execution_count": 270,
   "metadata": {
    "colab": {
     "base_uri": "https://localhost:8080/"
    },
    "id": "t6wz2xpkSSWW",
    "outputId": "0278a666-4132-42fc-bd29-a1d839991367"
   },
   "outputs": [
    {
     "data": {
      "text/plain": [
       "[2, 4, 6, 8, 10]"
      ]
     },
     "execution_count": 270,
     "metadata": {},
     "output_type": "execute_result"
    }
   ],
   "source": [
    "new"
   ]
  },
  {
   "cell_type": "code",
   "execution_count": 271,
   "metadata": {
    "colab": {
     "base_uri": "https://localhost:8080/"
    },
    "id": "OrFED_36SStz",
    "outputId": "9e7d96e0-cf94-498f-d0ab-1426c00a1cd6"
   },
   "outputs": [
    {
     "data": {
      "text/plain": [
       "[2, 4, 6, 8, 10]"
      ]
     },
     "execution_count": 271,
     "metadata": {},
     "output_type": "execute_result"
    }
   ],
   "source": [
    "[num * 2 for num in nums]"
   ]
  },
  {
   "cell_type": "code",
   "execution_count": 272,
   "metadata": {
    "id": "mJoPxe_5SfeU"
   },
   "outputs": [],
   "source": [
    "new = []\n",
    "for num in nums:\n",
    "  if num > 2:\n",
    "    new.append(num * 2)"
   ]
  },
  {
   "cell_type": "code",
   "execution_count": 273,
   "metadata": {
    "colab": {
     "base_uri": "https://localhost:8080/"
    },
    "id": "-NRCOMqeSu4j",
    "outputId": "f2f210a4-83c1-46e2-e8a0-766c52876165"
   },
   "outputs": [
    {
     "data": {
      "text/plain": [
       "[6, 8, 10]"
      ]
     },
     "execution_count": 273,
     "metadata": {},
     "output_type": "execute_result"
    }
   ],
   "source": [
    "new"
   ]
  },
  {
   "cell_type": "code",
   "execution_count": 274,
   "metadata": {
    "colab": {
     "base_uri": "https://localhost:8080/"
    },
    "id": "sxs0js1oSvZy",
    "outputId": "5e99458e-8bd5-4d77-e32b-f354204525b2"
   },
   "outputs": [
    {
     "data": {
      "text/plain": [
       "[6, 8, 10]"
      ]
     },
     "execution_count": 274,
     "metadata": {},
     "output_type": "execute_result"
    }
   ],
   "source": [
    "[num * 2 for num in nums if num > 2]"
   ]
  },
  {
   "cell_type": "code",
   "execution_count": 275,
   "metadata": {
    "id": "b2usjiyRS052"
   },
   "outputs": [],
   "source": [
    "new = []\n",
    "for num in nums:\n",
    "  if num > 2:\n",
    "    new.append(True)\n",
    "  else:\n",
    "    new.append(False)"
   ]
  },
  {
   "cell_type": "code",
   "execution_count": 276,
   "metadata": {
    "colab": {
     "base_uri": "https://localhost:8080/"
    },
    "id": "2bPbuQIzS_DI",
    "outputId": "3f61d9b3-179e-44c6-c4ad-b3629aacf8be"
   },
   "outputs": [
    {
     "data": {
      "text/plain": [
       "[False, False, True, True, True]"
      ]
     },
     "execution_count": 276,
     "metadata": {},
     "output_type": "execute_result"
    }
   ],
   "source": [
    "new"
   ]
  },
  {
   "cell_type": "code",
   "execution_count": 277,
   "metadata": {
    "colab": {
     "base_uri": "https://localhost:8080/"
    },
    "id": "27p87GhITAKJ",
    "outputId": "23db57e3-fc18-47ef-beb4-77fb3b23ef97"
   },
   "outputs": [
    {
     "data": {
      "text/plain": [
       "[False, False, True, True, True]"
      ]
     },
     "execution_count": 277,
     "metadata": {},
     "output_type": "execute_result"
    }
   ],
   "source": [
    "[True if num > 2 else False for num in nums]"
   ]
  },
  {
   "cell_type": "code",
   "execution_count": 278,
   "metadata": {
    "colab": {
     "base_uri": "https://localhost:8080/"
    },
    "id": "k8S0lBDFTKzk",
    "outputId": "2c9b423e-957c-42af-8f7e-49f6fbb21336"
   },
   "outputs": [
    {
     "data": {
      "text/plain": [
       "[[1, 1, 1], [1, 1, 1], [1, 1, 1]]"
      ]
     },
     "execution_count": 278,
     "metadata": {},
     "output_type": "execute_result"
    }
   ],
   "source": [
    "[[1 for _ in range(3)] for _ in range(3)]"
   ]
  },
  {
   "cell_type": "markdown",
   "metadata": {
    "id": "DpQwmIjMUP7G"
   },
   "source": [
    "# True False"
   ]
  },
  {
   "cell_type": "code",
   "execution_count": 279,
   "metadata": {
    "colab": {
     "base_uri": "https://localhost:8080/"
    },
    "id": "21vmZik-TWzC",
    "outputId": "6692a659-dd20-4e7d-cc51-d9256a7a3927"
   },
   "outputs": [
    {
     "data": {
      "text/plain": [
       "True"
      ]
     },
     "execution_count": 279,
     "metadata": {},
     "output_type": "execute_result"
    }
   ],
   "source": [
    "True"
   ]
  },
  {
   "cell_type": "code",
   "execution_count": 280,
   "metadata": {
    "colab": {
     "base_uri": "https://localhost:8080/"
    },
    "id": "_3xVov2aUTbE",
    "outputId": "d2af25bc-6b47-4afa-e38d-dd05afe7096d"
   },
   "outputs": [
    {
     "data": {
      "text/plain": [
       "False"
      ]
     },
     "execution_count": 280,
     "metadata": {},
     "output_type": "execute_result"
    }
   ],
   "source": [
    "False"
   ]
  },
  {
   "cell_type": "code",
   "execution_count": 281,
   "metadata": {
    "colab": {
     "base_uri": "https://localhost:8080/"
    },
    "id": "QwKwmgyTUVuq",
    "outputId": "e8a5bb05-8736-4cb8-e6c2-d2a9bff55a22"
   },
   "outputs": [
    {
     "data": {
      "text/plain": [
       "2"
      ]
     },
     "execution_count": 281,
     "metadata": {},
     "output_type": "execute_result"
    }
   ],
   "source": [
    "True + True"
   ]
  },
  {
   "cell_type": "code",
   "execution_count": 282,
   "metadata": {
    "colab": {
     "base_uri": "https://localhost:8080/"
    },
    "id": "pG-nXofnUYDf",
    "outputId": "c8183d5b-ecb2-47d7-f982-6959792350bb"
   },
   "outputs": [
    {
     "data": {
      "text/plain": [
       "1"
      ]
     },
     "execution_count": 282,
     "metadata": {},
     "output_type": "execute_result"
    }
   ],
   "source": [
    "True + False"
   ]
  },
  {
   "cell_type": "code",
   "execution_count": 283,
   "metadata": {
    "colab": {
     "base_uri": "https://localhost:8080/"
    },
    "id": "c-X87mkzUZ0a",
    "outputId": "b1317530-8120-4e92-f4dc-72b6c52ce8e1"
   },
   "outputs": [
    {
     "data": {
      "text/plain": [
       "True"
      ]
     },
     "execution_count": 283,
     "metadata": {},
     "output_type": "execute_result"
    }
   ],
   "source": [
    "2 > 1"
   ]
  },
  {
   "cell_type": "code",
   "execution_count": 284,
   "metadata": {
    "colab": {
     "base_uri": "https://localhost:8080/"
    },
    "id": "H-HhIXYeUeGA",
    "outputId": "b824cb9c-8885-40be-cb3d-dbe1601a8b9b"
   },
   "outputs": [
    {
     "data": {
      "text/plain": [
       "False"
      ]
     },
     "execution_count": 284,
     "metadata": {},
     "output_type": "execute_result"
    }
   ],
   "source": [
    "1 > 2"
   ]
  },
  {
   "cell_type": "code",
   "execution_count": 285,
   "metadata": {
    "id": "0q6z48VmUgBc"
   },
   "outputs": [],
   "source": [
    "flag = True"
   ]
  },
  {
   "cell_type": "code",
   "execution_count": 286,
   "metadata": {
    "colab": {
     "base_uri": "https://localhost:8080/"
    },
    "id": "ShdNRO_iUwjy",
    "outputId": "f762d524-588a-4db2-c680-fd6fac3cc558"
   },
   "outputs": [
    {
     "data": {
      "text/plain": [
       "True"
      ]
     },
     "execution_count": 286,
     "metadata": {},
     "output_type": "execute_result"
    }
   ],
   "source": [
    "True == True"
   ]
  },
  {
   "cell_type": "code",
   "execution_count": 287,
   "metadata": {
    "colab": {
     "base_uri": "https://localhost:8080/"
    },
    "id": "9g71wH2CUmmU",
    "outputId": "ec099044-5115-4e21-d3f0-accc8a57a069"
   },
   "outputs": [
    {
     "name": "stdout",
     "output_type": "stream",
     "text": [
      "закончить программу\n"
     ]
    }
   ],
   "source": [
    "if flag:\n",
    "  print('закончить программу')"
   ]
  },
  {
   "cell_type": "code",
   "execution_count": 288,
   "metadata": {
    "id": "hBXxoNB1Uvb9"
   },
   "outputs": [],
   "source": [
    "flag = 0"
   ]
  },
  {
   "cell_type": "code",
   "execution_count": 289,
   "metadata": {
    "id": "hulfjglNU665"
   },
   "outputs": [],
   "source": [
    "if flag:\n",
    "  print('флаг включен')"
   ]
  },
  {
   "cell_type": "markdown",
   "metadata": {
    "id": "bWyr7FPQWJn7"
   },
   "source": [
    "# Функции"
   ]
  },
  {
   "cell_type": "code",
   "execution_count": 290,
   "metadata": {
    "id": "vxmyyFAjZNFj"
   },
   "outputs": [],
   "source": [
    "nums = [1,2,3,4,5]"
   ]
  },
  {
   "cell_type": "code",
   "execution_count": 291,
   "metadata": {
    "id": "oHzBpyy7ms35"
   },
   "outputs": [],
   "source": [
    "new = []\n",
    "for num in nums:\n",
    "  new.append(num * 2)"
   ]
  },
  {
   "cell_type": "code",
   "execution_count": 292,
   "metadata": {
    "colab": {
     "base_uri": "https://localhost:8080/"
    },
    "id": "pRo7XkHKmyFd",
    "outputId": "68e7c107-829d-4c3b-d5a4-58293b6f761d"
   },
   "outputs": [
    {
     "data": {
      "text/plain": [
       "[2, 4, 6, 8, 10]"
      ]
     },
     "execution_count": 292,
     "metadata": {},
     "output_type": "execute_result"
    }
   ],
   "source": [
    "new"
   ]
  },
  {
   "cell_type": "code",
   "execution_count": 293,
   "metadata": {
    "id": "bBJHpcbimyT_"
   },
   "outputs": [],
   "source": [
    "nums1 = [45,3,28,234]"
   ]
  },
  {
   "cell_type": "code",
   "execution_count": 294,
   "metadata": {
    "id": "INQlS0x0m4L-"
   },
   "outputs": [],
   "source": [
    "new = []\n",
    "for num in nums1:\n",
    "  new.append(num * 2)"
   ]
  },
  {
   "cell_type": "code",
   "execution_count": 295,
   "metadata": {
    "colab": {
     "base_uri": "https://localhost:8080/"
    },
    "id": "EOVRKtfTm73i",
    "outputId": "04cf2170-01b0-470c-a9d2-5d8ad65a42b2"
   },
   "outputs": [
    {
     "data": {
      "text/plain": [
       "[90, 6, 56, 468]"
      ]
     },
     "execution_count": 295,
     "metadata": {},
     "output_type": "execute_result"
    }
   ],
   "source": [
    "new"
   ]
  },
  {
   "cell_type": "code",
   "execution_count": 296,
   "metadata": {
    "id": "nvQB97Svm8Yd"
   },
   "outputs": [],
   "source": [
    "def mult2(nums):\n",
    "  new = []\n",
    "  for num in nums:\n",
    "    new.append(num * 2)\n",
    "  return new"
   ]
  },
  {
   "cell_type": "code",
   "execution_count": 297,
   "metadata": {
    "colab": {
     "base_uri": "https://localhost:8080/"
    },
    "id": "DK6jVCPRnbrc",
    "outputId": "3c90c40a-c566-4b0d-dc1c-f3163873c142"
   },
   "outputs": [
    {
     "data": {
      "text/plain": [
       "[2, 4, 6]"
      ]
     },
     "execution_count": 297,
     "metadata": {},
     "output_type": "execute_result"
    }
   ],
   "source": [
    "mult2([1,2,3])"
   ]
  },
  {
   "cell_type": "code",
   "execution_count": 298,
   "metadata": {
    "colab": {
     "base_uri": "https://localhost:8080/"
    },
    "id": "nd5CgAz6nhH5",
    "outputId": "47458e06-337c-478d-fa6c-74c9da6341e2"
   },
   "outputs": [
    {
     "data": {
      "text/plain": [
       "[4, 2, 48462]"
      ]
     },
     "execution_count": 298,
     "metadata": {},
     "output_type": "execute_result"
    }
   ],
   "source": [
    "mult2([2,1,24231])"
   ]
  },
  {
   "cell_type": "code",
   "execution_count": 299,
   "metadata": {
    "id": "4rBKvprwnmz6"
   },
   "outputs": [],
   "source": [
    "def mult(nums,k):\n",
    "  new = []\n",
    "  for num in nums:\n",
    "    new.append(num * k)\n",
    "  return new"
   ]
  },
  {
   "cell_type": "code",
   "execution_count": 300,
   "metadata": {
    "colab": {
     "base_uri": "https://localhost:8080/"
    },
    "id": "69nQgRoEnxrK",
    "outputId": "05370653-0ffc-478f-b513-e0050f89d298"
   },
   "outputs": [
    {
     "data": {
      "text/plain": [
       "[1220, 20, 20]"
      ]
     },
     "execution_count": 300,
     "metadata": {},
     "output_type": "execute_result"
    }
   ],
   "source": [
    "mult([122,2,2],10)"
   ]
  },
  {
   "cell_type": "markdown",
   "metadata": {
    "id": "BkULwRsUo_Tv"
   },
   "source": [
    "# Словарь"
   ]
  },
  {
   "cell_type": "code",
   "execution_count": 301,
   "metadata": {
    "id": "zQ1qJcCVoy1X"
   },
   "outputs": [],
   "source": [
    "arr = [('a',11),('b',1234),('c',33)]"
   ]
  },
  {
   "cell_type": "code",
   "execution_count": 302,
   "metadata": {
    "colab": {
     "base_uri": "https://localhost:8080/"
    },
    "id": "wwAnX5UNp5vh",
    "outputId": "5e442714-5212-47db-e2b9-a257640667f7"
   },
   "outputs": [
    {
     "data": {
      "text/plain": [
       "[('a', 11), ('b', 1234), ('c', 33)]"
      ]
     },
     "execution_count": 302,
     "metadata": {},
     "output_type": "execute_result"
    }
   ],
   "source": [
    "arr"
   ]
  },
  {
   "cell_type": "code",
   "execution_count": 303,
   "metadata": {
    "colab": {
     "base_uri": "https://localhost:8080/"
    },
    "id": "pr2QsBx7p6Fj",
    "outputId": "4a36acef-91ff-473a-e7f9-43798029b8c8"
   },
   "outputs": [
    {
     "name": "stdout",
     "output_type": "stream",
     "text": [
      "1234\n"
     ]
    }
   ],
   "source": [
    "for el in arr:\n",
    "  if el[0] == 'b':\n",
    "    print(el[1])"
   ]
  },
  {
   "cell_type": "code",
   "execution_count": 304,
   "metadata": {
    "id": "pR1OyAP_qJYI"
   },
   "outputs": [],
   "source": [
    "d = {'a':11,'b':1234,'c':33}"
   ]
  },
  {
   "cell_type": "code",
   "execution_count": 305,
   "metadata": {
    "colab": {
     "base_uri": "https://localhost:8080/"
    },
    "id": "FUcgwK--qtER",
    "outputId": "3e205142-cc62-49d0-e073-b4714d9a1cc2"
   },
   "outputs": [
    {
     "data": {
      "text/plain": [
       "33"
      ]
     },
     "execution_count": 305,
     "metadata": {},
     "output_type": "execute_result"
    }
   ],
   "source": [
    "d['c']"
   ]
  },
  {
   "cell_type": "code",
   "execution_count": 306,
   "metadata": {
    "id": "OwicdFQXqtTS"
   },
   "outputs": [],
   "source": [
    "var = 'c'"
   ]
  },
  {
   "cell_type": "code",
   "execution_count": 307,
   "metadata": {
    "colab": {
     "base_uri": "https://localhost:8080/"
    },
    "id": "yO8IvLk4rANP",
    "outputId": "ae8e8eb9-c302-4ac7-8866-e6596a204873"
   },
   "outputs": [
    {
     "name": "stdout",
     "output_type": "stream",
     "text": [
      "33\n"
     ]
    }
   ],
   "source": [
    "if var == 'a':\n",
    "  print(11)\n",
    "elif var == 'b':\n",
    "  print(1234)\n",
    "elif var == 'c':\n",
    "  print(33)"
   ]
  },
  {
   "cell_type": "code",
   "execution_count": 308,
   "metadata": {
    "colab": {
     "base_uri": "https://localhost:8080/"
    },
    "id": "5kQlV3qErHeP",
    "outputId": "a54107ed-5aa9-44e1-f65d-72bc92735749"
   },
   "outputs": [
    {
     "data": {
      "text/plain": [
       "33"
      ]
     },
     "execution_count": 308,
     "metadata": {},
     "output_type": "execute_result"
    }
   ],
   "source": [
    "d[var]"
   ]
  },
  {
   "cell_type": "code",
   "execution_count": 309,
   "metadata": {
    "id": "6-2ZrFgxrQbK"
   },
   "outputs": [],
   "source": [
    "var = 'd'"
   ]
  },
  {
   "cell_type": "code",
   "execution_count": 310,
   "metadata": {
    "colab": {
     "base_uri": "https://localhost:8080/",
     "height": 35
    },
    "id": "0ZvBNVbWrj9Q",
    "outputId": "de71a869-96ed-46b0-8f13-3cc6d919a51d"
   },
   "outputs": [
    {
     "data": {
      "text/plain": [
       "'ничего не найдено'"
      ]
     },
     "execution_count": 310,
     "metadata": {},
     "output_type": "execute_result"
    }
   ],
   "source": [
    "d.get('cdrfsda','ничего не найдено')"
   ]
  },
  {
   "cell_type": "markdown",
   "metadata": {
    "id": "Bg9aT08WrorZ"
   },
   "source": [
    "# Сет "
   ]
  },
  {
   "cell_type": "code",
   "execution_count": 311,
   "metadata": {
    "colab": {
     "base_uri": "https://localhost:8080/"
    },
    "id": "eOuUcgKlsMTR",
    "outputId": "382b29a1-a241-4540-e484-f556a88912eb"
   },
   "outputs": [
    {
     "data": {
      "text/plain": [
       "{1, 2, 3, 4}"
      ]
     },
     "execution_count": 311,
     "metadata": {},
     "output_type": "execute_result"
    }
   ],
   "source": [
    "{1,2,3,4}"
   ]
  },
  {
   "cell_type": "code",
   "execution_count": 312,
   "metadata": {
    "id": "eRTQ6HZMsXd_"
   },
   "outputs": [],
   "source": [
    "nums = [1,2,2,2,3,3]"
   ]
  },
  {
   "cell_type": "code",
   "execution_count": 313,
   "metadata": {
    "id": "4m2qMrfxsejq"
   },
   "outputs": [],
   "source": [
    "nums_set = set(nums)"
   ]
  },
  {
   "cell_type": "code",
   "execution_count": 314,
   "metadata": {
    "colab": {
     "base_uri": "https://localhost:8080/"
    },
    "id": "_qj_vSwzsgA5",
    "outputId": "2dc7931b-c81f-4be0-fb6a-7eec93e05c64"
   },
   "outputs": [
    {
     "data": {
      "text/plain": [
       "{1, 2, 3}"
      ]
     },
     "execution_count": 314,
     "metadata": {},
     "output_type": "execute_result"
    }
   ],
   "source": [
    "nums_set"
   ]
  },
  {
   "cell_type": "code",
   "execution_count": 315,
   "metadata": {
    "colab": {
     "base_uri": "https://localhost:8080/"
    },
    "id": "7W-W0YcPsmzK",
    "outputId": "de051027-1ef4-49ec-cda4-d4e01f1395cf"
   },
   "outputs": [
    {
     "data": {
      "text/plain": [
       "False"
      ]
     },
     "execution_count": 315,
     "metadata": {},
     "output_type": "execute_result"
    }
   ],
   "source": [
    "4 in nums_set"
   ]
  },
  {
   "cell_type": "code",
   "execution_count": 316,
   "metadata": {
    "colab": {
     "base_uri": "https://localhost:8080/"
    },
    "id": "f8fw8BmrsqIR",
    "outputId": "76afd6ff-e649-44f0-c5ba-6a5555f20cc0"
   },
   "outputs": [
    {
     "data": {
      "text/plain": [
       "False"
      ]
     },
     "execution_count": 316,
     "metadata": {},
     "output_type": "execute_result"
    }
   ],
   "source": [
    "4 in nums"
   ]
  },
  {
   "cell_type": "code",
   "execution_count": 317,
   "metadata": {
    "colab": {
     "base_uri": "https://localhost:8080/"
    },
    "id": "1nZwB4RVsusR",
    "outputId": "1dee9c96-6a73-4c2a-88f0-dab7f914e6a3"
   },
   "outputs": [
    {
     "data": {
      "text/plain": [
       "3"
      ]
     },
     "execution_count": 317,
     "metadata": {},
     "output_type": "execute_result"
    }
   ],
   "source": [
    "nums[-1]"
   ]
  },
  {
   "cell_type": "code",
   "execution_count": 318,
   "metadata": {
    "id": "9cmT1QMEs6yO"
   },
   "outputs": [],
   "source": [
    "s1 = {1,2,3}"
   ]
  },
  {
   "cell_type": "code",
   "execution_count": 319,
   "metadata": {
    "id": "4IljAvi4tH_T"
   },
   "outputs": [],
   "source": [
    "s2 = {2,3}"
   ]
  },
  {
   "cell_type": "code",
   "execution_count": 320,
   "metadata": {
    "colab": {
     "base_uri": "https://localhost:8080/"
    },
    "id": "Iyc-Vy-9tKF6",
    "outputId": "d836bfa8-a6e0-45aa-a626-f2b3825c643a"
   },
   "outputs": [
    {
     "data": {
      "text/plain": [
       "{1}"
      ]
     },
     "execution_count": 320,
     "metadata": {},
     "output_type": "execute_result"
    }
   ],
   "source": [
    "s1 - s2"
   ]
  },
  {
   "cell_type": "code",
   "execution_count": 321,
   "metadata": {
    "colab": {
     "base_uri": "https://localhost:8080/"
    },
    "id": "ONXtY9XjtN8K",
    "outputId": "9b332739-22ca-48d2-ff5f-52ba603a9ec6"
   },
   "outputs": [
    {
     "data": {
      "text/plain": [
       "set()"
      ]
     },
     "execution_count": 321,
     "metadata": {},
     "output_type": "execute_result"
    }
   ],
   "source": [
    "s2 - s1"
   ]
  },
  {
   "cell_type": "code",
   "execution_count": 322,
   "metadata": {
    "colab": {
     "base_uri": "https://localhost:8080/"
    },
    "id": "QIbBluzTtP5M",
    "outputId": "1d3e33b4-2f51-4808-8156-5f0e57dd7144"
   },
   "outputs": [
    {
     "data": {
      "text/plain": [
       "{2, 3}"
      ]
     },
     "execution_count": 322,
     "metadata": {},
     "output_type": "execute_result"
    }
   ],
   "source": [
    "s1.intersection(s2)"
   ]
  },
  {
   "cell_type": "code",
   "execution_count": 323,
   "metadata": {
    "id": "DvAseTO7tYu3"
   },
   "outputs": [],
   "source": [
    "s1 = {1,2,3}\n",
    "s2 = {2,3,5}"
   ]
  },
  {
   "cell_type": "code",
   "execution_count": 324,
   "metadata": {
    "colab": {
     "base_uri": "https://localhost:8080/"
    },
    "id": "ijQVSJe8txj_",
    "outputId": "c5dd04a2-5624-45f1-a8fc-b7a05a14a650"
   },
   "outputs": [
    {
     "data": {
      "text/plain": [
       "{1, 2, 3, 5}"
      ]
     },
     "execution_count": 324,
     "metadata": {},
     "output_type": "execute_result"
    }
   ],
   "source": [
    "s1.union(s2)"
   ]
  },
  {
   "cell_type": "markdown",
   "metadata": {
    "id": "HP5Tjlz3t6Uw"
   },
   "source": [
    "# Конкатенация"
   ]
  },
  {
   "cell_type": "code",
   "execution_count": 325,
   "metadata": {
    "colab": {
     "base_uri": "https://localhost:8080/",
     "height": 35
    },
    "id": "TGAx91Srv7BJ",
    "outputId": "62a6b8ac-ce72-434a-d00b-dc7eba04ab39"
   },
   "outputs": [
    {
     "data": {
      "text/plain": [
       "'глеб-хлеб'"
      ]
     },
     "execution_count": 325,
     "metadata": {},
     "output_type": "execute_result"
    }
   ],
   "source": [
    "'глеб' + '-' + 'хлеб'"
   ]
  },
  {
   "cell_type": "code",
   "execution_count": 326,
   "metadata": {
    "colab": {
     "base_uri": "https://localhost:8080/"
    },
    "id": "MGpNcbY3wL8a",
    "outputId": "aef929a7-6499-474f-990b-52000b5f8df0"
   },
   "outputs": [
    {
     "data": {
      "text/plain": [
       "[1, 2, 2]"
      ]
     },
     "execution_count": 326,
     "metadata": {},
     "output_type": "execute_result"
    }
   ],
   "source": [
    "[1] + [2,2]"
   ]
  },
  {
   "cell_type": "code",
   "execution_count": 327,
   "metadata": {
    "colab": {
     "base_uri": "https://localhost:8080/"
    },
    "id": "d-bKBgW0wYnF",
    "outputId": "b66db373-065c-4775-d9b9-a898c2b242cc"
   },
   "outputs": [
    {
     "data": {
      "text/plain": [
       "[1, 1, 1, 1, 1, 0, 0, 0]"
      ]
     },
     "execution_count": 327,
     "metadata": {},
     "output_type": "execute_result"
    }
   ],
   "source": [
    "[1] * 5 + [0] * 3"
   ]
  },
  {
   "cell_type": "code",
   "execution_count": 328,
   "metadata": {
    "colab": {
     "base_uri": "https://localhost:8080/",
     "height": 35
    },
    "id": "cARrz0hSwerl",
    "outputId": "a82dc494-f98d-4dd0-ee86-79156ecc497a"
   },
   "outputs": [
    {
     "data": {
      "text/plain": [
       "'глебглебглеб-хлеб'"
      ]
     },
     "execution_count": 328,
     "metadata": {},
     "output_type": "execute_result"
    }
   ],
   "source": [
    "'глеб' * 3 + '-' + 'хлеб'"
   ]
  },
  {
   "cell_type": "markdown",
   "metadata": {
    "id": "DNaTvosPwl2f"
   },
   "source": [
    "# While"
   ]
  },
  {
   "cell_type": "code",
   "execution_count": 329,
   "metadata": {
    "id": "g8HxtDBVxU4d"
   },
   "outputs": [],
   "source": [
    "nums = [1,2,3,4,5,6]"
   ]
  },
  {
   "cell_type": "code",
   "execution_count": 330,
   "metadata": {
    "colab": {
     "base_uri": "https://localhost:8080/"
    },
    "id": "nqQddkWwyV2K",
    "outputId": "2fa807a6-9568-403a-87a4-43368521915f"
   },
   "outputs": [
    {
     "data": {
      "text/plain": [
       "6"
      ]
     },
     "execution_count": 330,
     "metadata": {},
     "output_type": "execute_result"
    }
   ],
   "source": [
    "nums.pop()"
   ]
  },
  {
   "cell_type": "code",
   "execution_count": 331,
   "metadata": {
    "colab": {
     "base_uri": "https://localhost:8080/"
    },
    "id": "psIPIEP0yapy",
    "outputId": "da200f74-74f2-4a2f-881d-76b7782cb537"
   },
   "outputs": [
    {
     "data": {
      "text/plain": [
       "[1, 2, 3, 4, 5]"
      ]
     },
     "execution_count": 331,
     "metadata": {},
     "output_type": "execute_result"
    }
   ],
   "source": [
    "nums"
   ]
  },
  {
   "cell_type": "code",
   "execution_count": 332,
   "metadata": {
    "colab": {
     "base_uri": "https://localhost:8080/"
    },
    "id": "iYqRkLbfybUa",
    "outputId": "aad38905-2715-47d2-d2a7-7aa933d0e6d9"
   },
   "outputs": [
    {
     "data": {
      "text/plain": [
       "[1, 2]"
      ]
     },
     "execution_count": 332,
     "metadata": {},
     "output_type": "execute_result"
    }
   ],
   "source": [
    "nums[:2]"
   ]
  },
  {
   "cell_type": "code",
   "execution_count": 333,
   "metadata": {
    "colab": {
     "base_uri": "https://localhost:8080/"
    },
    "id": "S6im5OfZyjA3",
    "outputId": "3a5d9110-68ce-4f95-e4b5-1a9b5c155ff7"
   },
   "outputs": [
    {
     "data": {
      "text/plain": [
       "5"
      ]
     },
     "execution_count": 333,
     "metadata": {},
     "output_type": "execute_result"
    }
   ],
   "source": [
    "len(nums)"
   ]
  },
  {
   "cell_type": "code",
   "execution_count": 334,
   "metadata": {
    "id": "Pd4t4F6-yznH"
   },
   "outputs": [],
   "source": [
    "nums = [1,4] + [1] * 1000"
   ]
  },
  {
   "cell_type": "code",
   "execution_count": 335,
   "metadata": {
    "id": "uwxOISq8ysDy"
   },
   "outputs": [],
   "source": [
    "while len(nums) > 2:\n",
    "  nums.pop()"
   ]
  },
  {
   "cell_type": "code",
   "execution_count": 336,
   "metadata": {
    "colab": {
     "base_uri": "https://localhost:8080/"
    },
    "id": "I86jopp3yxuz",
    "outputId": "6d5fb13f-5c57-4d08-d456-276ab9dc879d"
   },
   "outputs": [
    {
     "data": {
      "text/plain": [
       "[1, 4]"
      ]
     },
     "execution_count": 336,
     "metadata": {},
     "output_type": "execute_result"
    }
   ],
   "source": [
    "nums"
   ]
  },
  {
   "cell_type": "markdown",
   "metadata": {
    "id": "gPPsUUO-yyTB"
   },
   "source": [
    "# Классы"
   ]
  },
  {
   "cell_type": "code",
   "execution_count": 337,
   "metadata": {
    "id": "Mwg8HU6CUGqF"
   },
   "outputs": [],
   "source": [
    "it_specialists = [('Jon','DE',150),\n",
    "                  ('Carl','DA',120),\n",
    "                  ('Gleb','DS',300)]"
   ]
  },
  {
   "cell_type": "code",
   "execution_count": 338,
   "metadata": {
    "id": "XQMLZXtkWF90"
   },
   "outputs": [],
   "source": [
    "class ItSpecialist:\n",
    "  def __init__(self,name,speciality,salary):\n",
    "    self.name = name\n",
    "    self.speciality = speciality\n",
    "    self.salary = salary\n",
    "  \n",
    "  def tell_about_yourself(self):\n",
    "    return f'Hi! My name is {self.name}. I\\'m a {self.speciality}. My salary is {self.salary}'"
   ]
  },
  {
   "cell_type": "code",
   "execution_count": 339,
   "metadata": {
    "id": "XRLBLyOoWy0d"
   },
   "outputs": [],
   "source": [
    "jon = ItSpecialist('Jon','DE',150)"
   ]
  },
  {
   "cell_type": "code",
   "execution_count": 340,
   "metadata": {
    "colab": {
     "base_uri": "https://localhost:8080/"
    },
    "id": "XGQ7sqk_XJF4",
    "outputId": "a00d0d9c-0e44-4eb9-d93e-69fee4afc637"
   },
   "outputs": [
    {
     "data": {
      "text/plain": [
       "<__main__.ItSpecialist at 0x1cfb3f71be0>"
      ]
     },
     "execution_count": 340,
     "metadata": {},
     "output_type": "execute_result"
    }
   ],
   "source": [
    "jon"
   ]
  },
  {
   "cell_type": "code",
   "execution_count": 341,
   "metadata": {
    "colab": {
     "base_uri": "https://localhost:8080/",
     "height": 35
    },
    "id": "m6Fc3fP5XKEq",
    "outputId": "f8277e2a-1350-4fa5-ebf9-2a2999fc9062"
   },
   "outputs": [
    {
     "data": {
      "text/plain": [
       "'Jon'"
      ]
     },
     "execution_count": 341,
     "metadata": {},
     "output_type": "execute_result"
    }
   ],
   "source": [
    "jon.name"
   ]
  },
  {
   "cell_type": "code",
   "execution_count": 342,
   "metadata": {
    "colab": {
     "base_uri": "https://localhost:8080/"
    },
    "id": "SqcoAl-SXVn0",
    "outputId": "c733cd2e-af75-41f2-bdb4-8b7318f3df47"
   },
   "outputs": [
    {
     "data": {
      "text/plain": [
       "150"
      ]
     },
     "execution_count": 342,
     "metadata": {},
     "output_type": "execute_result"
    }
   ],
   "source": [
    "jon.salary"
   ]
  },
  {
   "cell_type": "code",
   "execution_count": 343,
   "metadata": {
    "colab": {
     "base_uri": "https://localhost:8080/",
     "height": 35
    },
    "id": "IfU8C2FEXXEa",
    "outputId": "76017cbd-d640-469d-9a68-5d6b81542970"
   },
   "outputs": [
    {
     "data": {
      "text/plain": [
       "'DE'"
      ]
     },
     "execution_count": 343,
     "metadata": {},
     "output_type": "execute_result"
    }
   ],
   "source": [
    "jon.speciality"
   ]
  },
  {
   "cell_type": "code",
   "execution_count": 344,
   "metadata": {
    "colab": {
     "base_uri": "https://localhost:8080/",
     "height": 35
    },
    "id": "yKApSpjEYWCT",
    "outputId": "45c11a42-603e-442e-e155-91c89fe6a5a3"
   },
   "outputs": [
    {
     "data": {
      "text/plain": [
       "\"Hi! My name is Jon. I'm a DE. My salary is 150\""
      ]
     },
     "execution_count": 344,
     "metadata": {},
     "output_type": "execute_result"
    }
   ],
   "source": [
    "jon.tell_about_yourself()"
   ]
  },
  {
   "cell_type": "code",
   "execution_count": 345,
   "metadata": {
    "id": "53MW7EDyXYQF"
   },
   "outputs": [],
   "source": [
    "carl = ItSpecialist('Carl','DA',120)"
   ]
  },
  {
   "cell_type": "code",
   "execution_count": 346,
   "metadata": {
    "colab": {
     "base_uri": "https://localhost:8080/",
     "height": 35
    },
    "id": "-hDenSZ7XjQ3",
    "outputId": "f956c05f-9609-4c59-e719-7ec879159912"
   },
   "outputs": [
    {
     "data": {
      "text/plain": [
       "\"Hi! My name is Carl. I'm a DA. My salary is 120\""
      ]
     },
     "execution_count": 346,
     "metadata": {},
     "output_type": "execute_result"
    }
   ],
   "source": [
    "carl.tell_about_yourself()"
   ]
  },
  {
   "cell_type": "code",
   "execution_count": 347,
   "metadata": {
    "id": "8e-9rKAfXjyO"
   },
   "outputs": [],
   "source": [
    "class DataScientist(ItSpecialist):\n",
    "\n",
    "  def __init__(self,name,salary):\n",
    "    super().__init__(name,'DS',salary)\n",
    "\n",
    "  def tell_about_yourself(self):\n",
    "    return f'Hi! My name is {self.name}. I\\'m a {self.speciality}. My salary is {self.salary}k per second'\n",
    "\n",
    "\n",
    "  def ml(self,data):\n",
    "    return 'profit for company (and myself)'"
   ]
  },
  {
   "cell_type": "code",
   "execution_count": 348,
   "metadata": {
    "id": "FYwsoKOXaFsO"
   },
   "outputs": [],
   "source": [
    "gleb = DataScientist('Gleb',300)"
   ]
  },
  {
   "cell_type": "code",
   "execution_count": 349,
   "metadata": {
    "colab": {
     "base_uri": "https://localhost:8080/",
     "height": 35
    },
    "id": "1DdmFTDZaMNq",
    "outputId": "d90d2efa-b7d3-446d-8b05-de9ce9c7b1a8"
   },
   "outputs": [
    {
     "data": {
      "text/plain": [
       "\"Hi! My name is Gleb. I'm a DS. My salary is 300k per second\""
      ]
     },
     "execution_count": 349,
     "metadata": {},
     "output_type": "execute_result"
    }
   ],
   "source": [
    "gleb.tell_about_yourself()"
   ]
  },
  {
   "cell_type": "code",
   "execution_count": 350,
   "metadata": {
    "colab": {
     "base_uri": "https://localhost:8080/",
     "height": 35
    },
    "id": "jPADBCH6bnYv",
    "outputId": "ea279fe1-6982-47be-f2ea-c4acba9ba588"
   },
   "outputs": [
    {
     "data": {
      "text/plain": [
       "'DS'"
      ]
     },
     "execution_count": 350,
     "metadata": {},
     "output_type": "execute_result"
    }
   ],
   "source": [
    "gleb.speciality"
   ]
  },
  {
   "cell_type": "code",
   "execution_count": 351,
   "metadata": {
    "colab": {
     "base_uri": "https://localhost:8080/",
     "height": 35
    },
    "id": "suo2qTn2ahGR",
    "outputId": "7b62ab82-937f-47c8-aa8f-a06869b143b4"
   },
   "outputs": [
    {
     "data": {
      "text/plain": [
       "'profit for company (and myself)'"
      ]
     },
     "execution_count": 351,
     "metadata": {},
     "output_type": "execute_result"
    }
   ],
   "source": [
    "gleb.ml([1,2,24231,-1])"
   ]
  }
 ],
 "metadata": {
  "colab": {
   "authorship_tag": "ABX9TyN7fqeaN0A68hBaqXYgdUWg",
   "collapsed_sections": [],
   "include_colab_link": true,
   "name": "01-python-check-up.ipynb",
   "provenance": []
  },
  "kernelspec": {
   "display_name": "base",
   "language": "python",
   "name": "python3"
  },
  "language_info": {
   "codemirror_mode": {
    "name": "ipython",
    "version": 3
   },
   "file_extension": ".py",
   "mimetype": "text/x-python",
   "name": "python",
   "nbconvert_exporter": "python",
   "pygments_lexer": "ipython3",
   "version": "3.12.4"
  }
 },
 "nbformat": 4,
 "nbformat_minor": 0
}
